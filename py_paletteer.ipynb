{
 "cells": [
  {
   "cell_type": "code",
   "execution_count": 1,
   "id": "7c686105",
   "metadata": {},
   "outputs": [],
   "source": [
    "import rdata\n",
    "import os\n",
    "import pandas as pd\n",
    "import pickle"
   ]
  },
  {
   "cell_type": "code",
   "execution_count": 116,
   "id": "8931cf28",
   "metadata": {},
   "outputs": [],
   "source": [
    "from matplotlib.colors import LinearSegmentedColormap, ListedColormap\n",
    "import matplotlib.pyplot as plt \n",
    "import matplotlib as mpl\n"
   ]
  },
  {
   "cell_type": "code",
   "execution_count": 370,
   "id": "ec6d30ac",
   "metadata": {},
   "outputs": [],
   "source": [
    "## read in all the Rda data and save them as pickle\n",
    "\n",
    "# location of the `rda` files of paletteer\n",
    "file_loc = os.path.join('.', 'r-paletteer', 'paletteer', 'data')\n",
    "\n",
    "def regenerate_palette_pickle(file_loc):\n",
    "    files = os.listdir(file_loc)\n",
    "\n",
    "    all_data = {}\n",
    "\n",
    "    for f in files:\n",
    "        parsed = rdata.parser.parse_file(os.path.join(file_loc, f))\n",
    "        converted = rdata.conversion.convert(parsed)\n",
    "        keys = list(converted.keys())\n",
    "        key = keys[0]\n",
    "        all_data[key] = converted[key]\n",
    "\n",
    "    with open('all_data.pkl', 'wb') as f:\n",
    "        pickle.dump(all_data, f)\n",
    "        \n",
    "## after a git pull: \n",
    "# regenerate_palette_pickle(file_loc=file_loc)"
   ]
  },
  {
   "cell_type": "code",
   "execution_count": 371,
   "id": "77d4e513",
   "metadata": {},
   "outputs": [],
   "source": [
    "## create pal_data \n",
    "\n",
    "all_data = pd.read_pickle(r'all_data.pkl')\n",
    "\n",
    "pal_dynamic = pd.DataFrame.from_dict(all_data['palettes_dynamic'], orient='index')\\\n",
    "    .stack().to_frame()\\\n",
    "    .reset_index()\\\n",
    "    .rename(columns={0:'color_data', 'level_0': 'package', 'level_1':'palette'})\\\n",
    "    .explode(column='color_data')\\\n",
    "    .assign(color_len=lambda x: x['color_data'].apply(len))\\\n",
    "    .assign(dynamic=True)\n",
    "\n",
    "pal_discrete = pd.DataFrame.from_dict(all_data['palettes_d'], orient='index')\\\n",
    "    .stack().to_frame()\\\n",
    "    .reset_index()\\\n",
    "    .rename(columns={0:'color_data', 'level_0': 'package', 'level_1':'palette'})\\\n",
    "    .assign(color_len=lambda x: x['color_data'].apply(len))\\\n",
    "    .assign(dynamic=False)\n",
    "\n",
    "pal_data = pd.concat([pal_dynamic, pal_discrete])\n",
    "\n",
    "## merge color data with the metadaa about the type\n",
    "pal_data = pal_data.merge(pal_names[['package', 'palette', 'length', 'type']], \n",
    "               on=['package', 'palette'], \n",
    "               how='left')\n",
    "\n",
    "## some metadata are missing - fill in the length \n",
    "pal_data['length'] = pal_data['length'].fillna(pal_data['color_data'].apply(len))\n",
    "\n",
    "## assign palettes with missing type to qualitative \n",
    "pal_data['type'] = pal_data['type'].fillna('qualitative')\n",
    "\n",
    "pal_data = pal_data.rename(columns={'type':'pal_type'})\n",
    "\n",
    "pal_names = pd.concat([all_data['palettes_d_names'], all_data['palettes_c_names'], all_data['palettes_dynamic_names']])"
   ]
  },
  {
   "cell_type": "markdown",
   "id": "7111dc13",
   "metadata": {},
   "source": [
    "Fixed-width: fixed amount of colors  `palettes_d_names`  \n",
    "Dynamic: colors can be generated  `palettes_dynamic_names`  \n",
    "Continuous: smooth transitions  `palettes_c_names`  "
   ]
  },
  {
   "cell_type": "code",
   "execution_count": 234,
   "id": "e64a5952",
   "metadata": {},
   "outputs": [],
   "source": [
    "class paletteer_pal: \n",
    "    def __init__(self, package, palette, pal_type, color_data, **kw_args): \n",
    "        self.package = package\n",
    "        self.palette = palette \n",
    "        self.pal_type = pal_type \n",
    "        self.color_data = color_data\n",
    "        self._cmap_name = '{}::{}'.format(self.package, self.palette)\n",
    "    \n",
    "    def get_cmap_segmented(self): \n",
    "        cmap = ListedColormap(name=self._cmap_name, \n",
    "                              colors = self.color_data)\n",
    "        return cmap\n",
    "    \n",
    "    def get_cmap_continuous(self): \n",
    "        cmap = LinearSegmentedColormap.from_list(name=self._cmap_name,\n",
    "                                                 colors=self.color_data)\n",
    "        return cmap \n",
    "    \n",
    "    def register_plt(self, which, custom_name=None):\n",
    "        if which not in ['segmented', 'continuous']: \n",
    "            ValueError('pick `segmented` or `continuous`')\n",
    "        if which == 'segmented': \n",
    "            if custom_name is None: \n",
    "                custom_name = \"{}::{}\".format(self._cmap_name, which)\n",
    "            plt.register_cmap(custom_name, self.get_cmap_segmented())\n",
    "        else: \n",
    "            if custom_name is None: \n",
    "                custom_name = \"{}::{}\".format(self._cmap_name, which)\n",
    "            plt.register_cmap(custom_name, self.get_cmap_continuous())"
   ]
  },
  {
   "cell_type": "code",
   "execution_count": 341,
   "id": "a82d28e9",
   "metadata": {},
   "outputs": [],
   "source": [
    "def show_random_map(random_state=None):\n",
    "    return paletteer_pal(**pal_data\\\n",
    "                      .sample(1, random_state=random_state)\\\n",
    "                      .iloc[0].to_dict())\\\n",
    "    .get_cmap_segmented()"
   ]
  },
  {
   "cell_type": "code",
   "execution_count": 306,
   "id": "935c0db8",
   "metadata": {},
   "outputs": [],
   "source": [
    "def create_pal_object(package, palette, N=None):\n",
    "    if package not in pal_data['package'].unique(): \n",
    "        ValueError('package not found')\n",
    "    if palette not in pal_data['palette'].unique(): \n",
    "        ValueError('palette name not found')\n",
    "    \n",
    "    sel_pal = pal_data[(pal_data['package']==package) & (pal_data['palette']==palette)]\n",
    "    \n",
    "    max_len = sel_pal['color_len'].max()\n",
    "    if ((N is None) or (N not in sel_pal['color_len'].unique())): \n",
    "        print('incorrect N; setting N colors to max available value: {}'.format(max_len))\n",
    "        N = max_len\n",
    "        \n",
    "    chosen = sel_pal[sel_pal['color_len']==N]\n",
    "    out = paletteer_pal(**chosen.iloc[0].to_dict())\n",
    "    return out "
   ]
  },
  {
   "cell_type": "code",
   "execution_count": 377,
   "id": "3a3aead5",
   "metadata": {},
   "outputs": [],
   "source": [
    "def list_palettes(pal_type=None):\n",
    "    pal_types_uq = pal_data['pal_type'].unique()\n",
    "    if pal_type not in pal_types_uq: \n",
    "        ValueError('available palette types: ', pal_types_uq)\n",
    "        \n",
    "    if pal_type is None: \n",
    "        out = pal_data[['package', 'palette']].drop_duplicates()\\\n",
    "            .apply(lambda x: '{}::{}'.format(x['package'], x['palette']), axis=1)\n",
    "    else: \n",
    "        out = pal_data[pal_data['pal_type']==pal_type][['package', 'palette']].drop_duplicates()\\\n",
    "            .apply(lambda x: '{}::{}'.format(x['package'], x['palette']), axis=1)\n",
    "        \n",
    "    return out.values.tolist()"
   ]
  },
  {
   "cell_type": "code",
   "execution_count": 212,
   "id": "6cfa18a9",
   "metadata": {},
   "outputs": [],
   "source": [
    "def print_user_registered_cmaps():\n",
    "    return [cm  for cm in plt.colormaps() if cm not in dir(plt.cm)]"
   ]
  },
  {
   "cell_type": "markdown",
   "id": "41f7bf29",
   "metadata": {},
   "source": [
    "___"
   ]
  },
  {
   "cell_type": "code",
   "execution_count": 380,
   "id": "b7a283d7",
   "metadata": {},
   "outputs": [
    {
     "data": {
      "text/plain": [
       "['cartography::blue.pal',\n",
       " 'cartography::orange.pal',\n",
       " 'cartography::red.pal',\n",
       " 'cartography::brown.pal',\n",
       " 'cartography::green.pal',\n",
       " 'cartography::purple.pal',\n",
       " 'cartography::pink.pal',\n",
       " 'cartography::wine.pal',\n",
       " 'cartography::grey.pal',\n",
       " 'cartography::turquoise.pal',\n",
       " 'cartography::sand.pal',\n",
       " 'cartography::taupe.pal',\n",
       " 'cartography::kaki.pal',\n",
       " 'cartography::harmo.pal',\n",
       " 'awtools::a_palette',\n",
       " 'awtools::gpalette',\n",
       " 'khroma::devon',\n",
       " 'khroma::lajolla',\n",
       " 'khroma::bamako',\n",
       " 'khroma::davos']"
      ]
     },
     "execution_count": 380,
     "metadata": {},
     "output_type": "execute_result"
    }
   ],
   "source": [
    "list_palettes('sequential')[:20]"
   ]
  },
  {
   "cell_type": "code",
   "execution_count": 302,
   "id": "2fdfda87",
   "metadata": {},
   "outputs": [
    {
     "name": "stdout",
     "output_type": "stream",
     "text": [
      "setting N colors to max available value: 6\n"
     ]
    }
   ],
   "source": [
    "pal2 = create_pal_object(package='beyonce', palette='X2', N=3)"
   ]
  },
  {
   "cell_type": "code",
   "execution_count": 356,
   "id": "8c17107a",
   "metadata": {},
   "outputs": [
    {
     "data": {
      "text/plain": [
       "['#0F2B5F', '#5991C7', '#8EC1E7', '#B9DBF1', '#D5A370', '#7B4F37']"
      ]
     },
     "execution_count": 356,
     "metadata": {},
     "output_type": "execute_result"
    }
   ],
   "source": [
    "pal2.color_data"
   ]
  },
  {
   "cell_type": "code",
   "execution_count": 305,
   "id": "f82cef51",
   "metadata": {},
   "outputs": [
    {
     "data": {
      "image/png": "[encoded data removed]",
      "text/html": [
       "<div style=\"vertical-align: middle;\"><strong>beyonce::X2</strong> </div><div class=\"cmap\"><img alt=\"beyonce::X2 colormap\" title=\"beyonce::X2\" style=\"border: 1px solid #555;\" src=\"data:image/png;base64,iVBORw0KGgoAAAANSUhEUgAAAgAAAABACAYAAABsv8+/AAAAGnRFWHRUaXRsZQBiZXlvbmNlOjpYMiBjb2xvcm1hcBWoNCUAAAAgdEVYdERlc2NyaXB0aW9uAGJleW9uY2U6OlgyIGNvbG9ybWFwhLZwcwAAADB0RVh0QXV0aG9yAE1hdHBsb3RsaWIgdjMuNi4xLCBodHRwczovL21hdHBsb3RsaWIub3JnRCPjDAAAADJ0RVh0U29mdHdhcmUATWF0cGxvdGxpYiB2My42LjEsIGh0dHBzOi8vbWF0cGxvdGxpYi5vcmdqhXwrAAAB70lEQVR4nO3WTXaCMABG0UQX0IV0Ud3/Ipp0IFFBURRPJ9+9E5ofIjDpq1/fP72UUurhUK6vh53jT53z9Nw6jY9j/bjvnDE+Pvud++vn+eW+unLu6vrpPWop0/l1ui7Hr86/eX/Zd//hU89/8z3+6f2nP8Z7DJfvszbeun/+e+v7l99hvl5Wzlvf//i85fOVje+7XL99n8fPd9m/7fnGTO2/s2vpbde4tjbNj3NfHS/Obe+ec388znv+XhvPbfu+1833m8atjWs/XXufjfvK/Hm9t7vzY39fmb/cP8ae4/o5Tv9tAIAoAgAAAgkAAAgkAAAgkAAAgEACAAACCQAACCQAACCQAACAQAIAAAIJAAAIJAAAIJAAAIBAAgAAAgkAAAgkAAAgkAAAgEACAAACCQAACCQAACCQAACAQAIAAAIJAAAIJAAAIJAAAIBAAgAAAgkAAAgkAAAgkAAAgEACAAACCQAACCQAACCQAACAQAIAAAIJAAAIJAAAIJAAAIBAAgAAAgkAAAgkAAAgkAAAgEACAAACCQAACCQAACCQAACAQAIAAAIJAAAIJAAAIJAAAIBAAgAAAgkAAAgkAAAgkAAAgEACAAACCQAACCQAACCQAACAQAIAAAIJAAAIJAAAIJAAAIBAAgAAAgkAAAj0ByLwAY/M5kuvAAAAAElFTkSuQmCC\"></div><div style=\"vertical-align: middle; max-width: 514px; display: flex; justify-content: space-between;\"><div style=\"float: left;\"><div title=\"#0f2b5fff\" style=\"display: inline-block; width: 1em; height: 1em; margin: 0; vertical-align: middle; border: 1px solid #555; background-color: #0f2b5fff;\"></div> under</div><div style=\"margin: 0 auto; display: inline-block;\">bad <div title=\"#00000000\" style=\"display: inline-block; width: 1em; height: 1em; margin: 0; vertical-align: middle; border: 1px solid #555; background-color: #00000000;\"></div></div><div style=\"float: right;\">over <div title=\"#7b4f37ff\" style=\"display: inline-block; width: 1em; height: 1em; margin: 0; vertical-align: middle; border: 1px solid #555; background-color: #7b4f37ff;\"></div></div>"
      ],
      "text/plain": [
       "<matplotlib.colors.LinearSegmentedColormap at 0x1d0998b4a90>"
      ]
     },
     "execution_count": 305,
     "metadata": {},
     "output_type": "execute_result"
    }
   ],
   "source": [
    "pal2.get_cmap_continuous()"
   ]
  },
  {
   "cell_type": "code",
   "execution_count": 353,
   "id": "a08decd9",
   "metadata": {},
   "outputs": [
    {
     "data": {
      "image/png": "[encoded data removed]",
      "text/html": [
       "<div style=\"vertical-align: middle;\"><strong>beyonce::X2</strong> </div><div class=\"cmap\"><img alt=\"beyonce::X2 colormap\" title=\"beyonce::X2\" style=\"border: 1px solid #555;\" src=\"data:image/png;base64,iVBORw0KGgoAAAANSUhEUgAAAgAAAABACAYAAABsv8+/AAAAGnRFWHRUaXRsZQBiZXlvbmNlOjpYMiBjb2xvcm1hcBWoNCUAAAAgdEVYdERlc2NyaXB0aW9uAGJleW9uY2U6OlgyIGNvbG9ybWFwhLZwcwAAADB0RVh0QXV0aG9yAE1hdHBsb3RsaWIgdjMuNi4xLCBodHRwczovL21hdHBsb3RsaWIub3JnRCPjDAAAADJ0RVh0U29mdHdhcmUATWF0cGxvdGxpYiB2My42LjEsIGh0dHBzOi8vbWF0cGxvdGxpYi5vcmdqhXwrAAABVklEQVR4nO3WsQ0BUAAAUZQavSj0Go0lLKETW9hGZQ+2Ygnxk3/vTXDlLTeHy2fBz52vt9EJ0zkd96MTpnPYrkcnTGf3vo9OmM7j+RqdMKXV6AAA4P8MAAAEGQAACDIAABBkAAAgyAAAQJABAIAgAwAAQQYAAIIMAAAEGQAACDIAABBkAAAgyAAAQJABAIAgAwAAQQYAAIIMAAAEGQAACDIAABBkAAAgyAAAQJABAIAgAwAAQQYAAIIMAAAEGQAACDIAABBkAAAgyAAAQJABAIAgAwAAQQYAAIIMAAAEGQAACDIAABBkAAAgyAAAQJABAIAgAwAAQQYAAIIMAAAEGQAACDIAABBkAAAgyAAAQJABAIAgAwAAQQYAAIIMAAAEGQAACDIAABBkAAAgyAAAQJABAIAgAwAAQQYAAIIMAAAEGQAACDIAABBkAAAgyAAAQJABAICgLyZLB4CGE5R/AAAAAElFTkSuQmCC\"></div><div style=\"vertical-align: middle; max-width: 514px; display: flex; justify-content: space-between;\"><div style=\"float: left;\"><div title=\"#0f2b5fff\" style=\"display: inline-block; width: 1em; height: 1em; margin: 0; vertical-align: middle; border: 1px solid #555; background-color: #0f2b5fff;\"></div> under</div><div style=\"margin: 0 auto; display: inline-block;\">bad <div title=\"#00000000\" style=\"display: inline-block; width: 1em; height: 1em; margin: 0; vertical-align: middle; border: 1px solid #555; background-color: #00000000;\"></div></div><div style=\"float: right;\">over <div title=\"#7b4f37ff\" style=\"display: inline-block; width: 1em; height: 1em; margin: 0; vertical-align: middle; border: 1px solid #555; background-color: #7b4f37ff;\"></div></div>"
      ],
      "text/plain": [
       "<matplotlib.colors.ListedColormap at 0x1d099a0ce50>"
      ]
     },
     "execution_count": 353,
     "metadata": {},
     "output_type": "execute_result"
    }
   ],
   "source": [
    "pal2.get_cmap_segmented()"
   ]
  },
  {
   "cell_type": "code",
   "execution_count": 359,
   "id": "276ec1ca",
   "metadata": {},
   "outputs": [],
   "source": [
    "pal2.register_plt(which='segmented')"
   ]
  },
  {
   "cell_type": "code",
   "execution_count": 362,
   "id": "d42f117b",
   "metadata": {},
   "outputs": [
    {
     "data": {
      "text/plain": [
       "['beyonce::X2::segmented']"
      ]
     },
     "execution_count": 362,
     "metadata": {},
     "output_type": "execute_result"
    }
   ],
   "source": [
    "print_user_registered_cmaps()"
   ]
  },
  {
   "cell_type": "code",
   "execution_count": 361,
   "id": "8d7a65ce",
   "metadata": {},
   "outputs": [],
   "source": [
    "## to unregister: \n",
    "# mpl.colormaps.unregister('beyonce::X2::segmented')"
   ]
  },
  {
   "cell_type": "code",
   "execution_count": 385,
   "id": "5f24d087",
   "metadata": {},
   "outputs": [
    {
     "data": {
      "image/png": "[encoded data removed]",
      "text/html": [
       "<div style=\"vertical-align: middle;\"><strong>nbapalettes::raptors_military</strong> </div><div class=\"cmap\"><img alt=\"nbapalettes::raptors_military colormap\" title=\"nbapalettes::raptors_military\" style=\"border: 1px solid #555;\" src=\"data:image/png;base64,iVBORw0KGgoAAAANSUhEUgAAAgAAAABACAYAAABsv8+/AAAALHRFWHRUaXRsZQBuYmFwYWxldHRlczo6cmFwdG9yc19taWxpdGFyeSBjb2xvcm1hcOaJOdQAAAAydEVYdERlc2NyaXB0aW9uAG5iYXBhbGV0dGVzOjpyYXB0b3JzX21pbGl0YXJ5IGNvbG9ybWFwJy6XOwAAADB0RVh0QXV0aG9yAE1hdHBsb3RsaWIgdjMuNi4xLCBodHRwczovL21hdHBsb3RsaWIub3JnRCPjDAAAADJ0RVh0U29mdHdhcmUATWF0cGxvdGxpYiB2My42LjEsIGh0dHBzOi8vbWF0cGxvdGxpYi5vcmdqhXwrAAABT0lEQVR4nO3WMQ0CQQAAQY4eB1RoQR4JCSaQgAIc4AIRj4Gj5Uh2RsGWO8YY246/dLneVicw8T48Vicw8by/VicwcT6eVifwxX51AADwewYAAIIMAAAEGQAACDIAABBkAAAgyAAAQJABAIAgAwAAQQYAAIIMAAAEGQAACDIAABBkAAAgyAAAQJABAIAgAwAAQQYAAIIMAAAEGQAACDIAABBkAAAgyAAAQJABAIAgAwAAQQYAAIIMAAAEGQAACDIAABBkAAAgyAAAQJABAIAgAwAAQQYAAIIMAAAEGQAACDIAABBkAAAgyAAAQJABAIAgAwAAQQYAAIIMAAAEGQAACDIAABBkAAAgyAAAQJABAIAgAwAAQQYAAIIMAAAEGQAACDIAABBkAAAgyAAAQJABAIAgAwAAQQYAAIIMAAAEGQAACDIAABBkAAAgyAAAQNAHg7UHoDWO33wAAAAASUVORK5CYII=\"></div><div style=\"vertical-align: middle; max-width: 514px; display: flex; justify-content: space-between;\"><div style=\"float: left;\"><div title=\"#010101ff\" style=\"display: inline-block; width: 1em; height: 1em; margin: 0; vertical-align: middle; border: 1px solid #555; background-color: #010101ff;\"></div> under</div><div style=\"margin: 0 auto; display: inline-block;\">bad <div title=\"#00000000\" style=\"display: inline-block; width: 1em; height: 1em; margin: 0; vertical-align: middle; border: 1px solid #555; background-color: #00000000;\"></div></div><div style=\"float: right;\">over <div title=\"#816040ff\" style=\"display: inline-block; width: 1em; height: 1em; margin: 0; vertical-align: middle; border: 1px solid #555; background-color: #816040ff;\"></div></div>"
      ],
      "text/plain": [
       "<matplotlib.colors.ListedColormap at 0x1d099a0d190>"
      ]
     },
     "execution_count": 385,
     "metadata": {},
     "output_type": "execute_result"
    }
   ],
   "source": [
    "show_random_map()"
   ]
  }
 ],
 "metadata": {
  "kernelspec": {
   "display_name": "Python 3",
   "language": "python",
   "name": "python3"
  },
  "language_info": {
   "codemirror_mode": {
    "name": "ipython",
    "version": 3
   },
   "file_extension": ".py",
   "mimetype": "text/x-python",
   "name": "python",
   "nbconvert_exporter": "python",
   "pygments_lexer": "ipython3",
   "version": "3.9.12"
  }
 },
 "nbformat": 4,
 "nbformat_minor": 5
}
